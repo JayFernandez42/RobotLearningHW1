{
  "cells": [
    {
      "cell_type": "markdown",
      "metadata": {
        "id": "mX2Oj9PL7zxC"
      },
      "source": [
        "### **Due Date**\n",
        "2/17/2025 at 11:59PM EST\n",
        "\n",
        "# **Introduction**\n",
        "\n",
        "Welcome to Assignment 2 of CS 4756/5756. In this assignment, you will train an agent using demonstrations from an expert. Concretely, you will:\n",
        "* Implement behavior cloning (BC)\n",
        "* **CS 5756 Only:** Implement dataset aggregation (DAgger)\n",
        "\n",
        "You will use the Fetch agent for this assignment (Reach task), which is part of Gymasium Robotics' Mujoco Environments. Refer to the Gym website for more details about the [Fetch Reach environment](https://robotics.farama.org/envs/fetch/reach/).\n",
        "\n",
        "\n",
        "Please read through the following paragraphs carefully, as they will apply to this and all future assignments.\n",
        "\n",
        "**Getting Started:** This assignment should be completed in [Google Colab](https://colab.research.google.com/). In order to visualize the environment rollouts, you may switch your runtime to the T4 GPU - however, it is not required for completion of the assignment.\n",
        "\n",
        "**Evaluation:**\n",
        "Your code will be tested for correctness and, for certain assignments, speed. For this particular assignment, performance results will not be harshly graded (although we provide approximate expected reward numbers as lower bounds, you are not expected to replicate them exactly); however, it will be important to make an effort to justify your approach which led to the obtained results. Please remember that all assignments should be completed individually.\n",
        "\n",
        "**Academic Integrity:** We will be checking your code against other submissions in the class for logical redundancy. If you copy someone else’s code and submit it with minor changes, we will know. These cheat detectors are quite hard to fool, so please don’t try. We trust you all to submit your own work only; please don’t let us down. If you do, we will pursue the strongest consequences available to us.\n",
        "\n",
        "**Getting Help:** The [Resources](https://www.cs.cornell.edu/courses/cs4756/2024sp/#resources) section on the course website is your friend! If you ever feel stuck in these projects, please feel free to avail yourself to office hours and Edstem! If you are unable to make any of the office hours listed, please let TAs know and we will be happy to assist. If you need a refresher for PyTorch, please see this [60 minute blitz](https://pytorch.org/tutorials/beginner/deep_learning_60min_blitz.html)! For Numpy, please see the quickstart [here](https://numpy.org/doc/stable/user/quickstart.html) and full API [here](https://numpy.org/doc/stable/reference/).\n"
      ]
    },
    {
      "cell_type": "markdown",
      "metadata": {
        "id": "stzlSyGe8TOU"
      },
      "source": [
        "# Installation and Setup"
      ]
    },
    {
      "cell_type": "code",
      "execution_count": 1,
      "metadata": {
        "id": "4BBjyusBO-pE",
        "colab": {
          "base_uri": "https://localhost:8080/"
        },
        "outputId": "04d46c07-544f-4568-a93b-9b592fb7f552",
        "collapsed": true
      },
      "outputs": [
        {
          "output_type": "stream",
          "name": "stdout",
          "text": [
            "Collecting cython<3\n",
            "  Downloading Cython-0.29.37-cp311-cp311-manylinux_2_17_x86_64.manylinux2014_x86_64.manylinux_2_24_x86_64.whl.metadata (3.1 kB)\n",
            "Downloading Cython-0.29.37-cp311-cp311-manylinux_2_17_x86_64.manylinux2014_x86_64.manylinux_2_24_x86_64.whl (1.9 MB)\n",
            "\u001b[2K   \u001b[90m━━━━━━━━━━━━━━━━━━━━━━━━━━━━━━━━━━━━━━━━\u001b[0m \u001b[32m1.9/1.9 MB\u001b[0m \u001b[31m22.1 MB/s\u001b[0m eta \u001b[36m0:00:00\u001b[0m\n",
            "\u001b[?25hInstalling collected packages: cython\n",
            "  Attempting uninstall: cython\n",
            "    Found existing installation: Cython 3.0.12\n",
            "    Uninstalling Cython-3.0.12:\n",
            "      Successfully uninstalled Cython-3.0.12\n",
            "Successfully installed cython-0.29.37\n",
            "Cloning into 'Gymnasium-Robotics'...\n",
            "remote: Enumerating objects: 7633, done.\u001b[K\n",
            "remote: Counting objects: 100% (2338/2338), done.\u001b[K\n",
            "remote: Compressing objects: 100% (594/594), done.\u001b[K\n",
            "remote: Total 7633 (delta 2042), reused 1777 (delta 1700), pack-reused 5295 (from 3)\u001b[K\n",
            "Receiving objects: 100% (7633/7633), 402.05 MiB | 37.43 MiB/s, done.\n",
            "Resolving deltas: 100% (4030/4030), done.\n",
            "Updating files: 100% (356/356), done.\n",
            "Obtaining file:///content/Gymnasium-Robotics\n",
            "  Installing build dependencies ... \u001b[?25l\u001b[?25hdone\n",
            "  Checking if build backend supports build_editable ... \u001b[?25l\u001b[?25hdone\n",
            "  Getting requirements to build editable ... \u001b[?25l\u001b[?25hdone\n",
            "  Preparing editable metadata (pyproject.toml) ... \u001b[?25l\u001b[?25hdone\n",
            "Collecting mujoco>=2.2.0 (from gymnasium-robotics==1.3.1)\n",
            "  Downloading mujoco-3.2.7-cp311-cp311-manylinux_2_17_x86_64.manylinux2014_x86_64.whl.metadata (44 kB)\n",
            "\u001b[2K     \u001b[90m━━━━━━━━━━━━━━━━━━━━━━━━━━━━━━━━━━━━━━━━\u001b[0m \u001b[32m44.4/44.4 kB\u001b[0m \u001b[31m2.2 MB/s\u001b[0m eta \u001b[36m0:00:00\u001b[0m\n",
            "\u001b[?25hRequirement already satisfied: numpy>=1.21.0 in /usr/local/lib/python3.11/dist-packages (from gymnasium-robotics==1.3.1) (1.26.4)\n",
            "Requirement already satisfied: gymnasium>=1.0.0 in /usr/local/lib/python3.11/dist-packages (from gymnasium-robotics==1.3.1) (1.0.0)\n",
            "Collecting PettingZoo>=1.23.0 (from gymnasium-robotics==1.3.1)\n",
            "  Downloading pettingzoo-1.24.3-py3-none-any.whl.metadata (8.5 kB)\n",
            "Requirement already satisfied: Jinja2>=3.0.3 in /usr/local/lib/python3.11/dist-packages (from gymnasium-robotics==1.3.1) (3.1.5)\n",
            "Requirement already satisfied: imageio in /usr/local/lib/python3.11/dist-packages (from gymnasium-robotics==1.3.1) (2.37.0)\n",
            "Requirement already satisfied: cloudpickle>=1.2.0 in /usr/local/lib/python3.11/dist-packages (from gymnasium>=1.0.0->gymnasium-robotics==1.3.1) (3.1.1)\n",
            "Requirement already satisfied: typing-extensions>=4.3.0 in /usr/local/lib/python3.11/dist-packages (from gymnasium>=1.0.0->gymnasium-robotics==1.3.1) (4.12.2)\n",
            "Requirement already satisfied: farama-notifications>=0.0.1 in /usr/local/lib/python3.11/dist-packages (from gymnasium>=1.0.0->gymnasium-robotics==1.3.1) (0.0.4)\n",
            "Requirement already satisfied: MarkupSafe>=2.0 in /usr/local/lib/python3.11/dist-packages (from Jinja2>=3.0.3->gymnasium-robotics==1.3.1) (3.0.2)\n",
            "Requirement already satisfied: absl-py in /usr/local/lib/python3.11/dist-packages (from mujoco>=2.2.0->gymnasium-robotics==1.3.1) (1.4.0)\n",
            "Requirement already satisfied: etils[epath] in /usr/local/lib/python3.11/dist-packages (from mujoco>=2.2.0->gymnasium-robotics==1.3.1) (1.12.0)\n",
            "Collecting glfw (from mujoco>=2.2.0->gymnasium-robotics==1.3.1)\n",
            "  Downloading glfw-2.8.0-py2.py27.py3.py30.py31.py32.py33.py34.py35.py36.py37.py38.p39.p310.p311.p312.p313-none-manylinux_2_28_x86_64.whl.metadata (5.4 kB)\n",
            "Requirement already satisfied: pyopengl in /usr/local/lib/python3.11/dist-packages (from mujoco>=2.2.0->gymnasium-robotics==1.3.1) (3.1.9)\n",
            "Requirement already satisfied: pillow>=8.3.2 in /usr/local/lib/python3.11/dist-packages (from imageio->gymnasium-robotics==1.3.1) (11.1.0)\n",
            "Requirement already satisfied: fsspec in /usr/local/lib/python3.11/dist-packages (from etils[epath]->mujoco>=2.2.0->gymnasium-robotics==1.3.1) (2024.10.0)\n",
            "Requirement already satisfied: importlib_resources in /usr/local/lib/python3.11/dist-packages (from etils[epath]->mujoco>=2.2.0->gymnasium-robotics==1.3.1) (6.5.2)\n",
            "Requirement already satisfied: zipp in /usr/local/lib/python3.11/dist-packages (from etils[epath]->mujoco>=2.2.0->gymnasium-robotics==1.3.1) (3.21.0)\n",
            "Downloading mujoco-3.2.7-cp311-cp311-manylinux_2_17_x86_64.manylinux2014_x86_64.whl (6.4 MB)\n",
            "\u001b[2K   \u001b[90m━━━━━━━━━━━━━━━━━━━━━━━━━━━━━━━━━━━━━━━━\u001b[0m \u001b[32m6.4/6.4 MB\u001b[0m \u001b[31m14.8 MB/s\u001b[0m eta \u001b[36m0:00:00\u001b[0m\n",
            "\u001b[?25hDownloading pettingzoo-1.24.3-py3-none-any.whl (847 kB)\n",
            "\u001b[2K   \u001b[90m━━━━━━━━━━━━━━━━━━━━━━━━━━━━━━━━━━━━━━━━\u001b[0m \u001b[32m847.8/847.8 kB\u001b[0m \u001b[31m42.2 MB/s\u001b[0m eta \u001b[36m0:00:00\u001b[0m\n",
            "\u001b[?25hDownloading glfw-2.8.0-py2.py27.py3.py30.py31.py32.py33.py34.py35.py36.py37.py38.p39.p310.p311.p312.p313-none-manylinux_2_28_x86_64.whl (243 kB)\n",
            "\u001b[2K   \u001b[90m━━━━━━━━━━━━━━━━━━━━━━━━━━━━━━━━━━━━━━━━\u001b[0m \u001b[32m243.4/243.4 kB\u001b[0m \u001b[31m18.9 MB/s\u001b[0m eta \u001b[36m0:00:00\u001b[0m\n",
            "\u001b[?25hBuilding wheels for collected packages: gymnasium-robotics\n",
            "  Building editable for gymnasium-robotics (pyproject.toml) ... \u001b[?25l\u001b[?25hdone\n",
            "  Created wheel for gymnasium-robotics: filename=gymnasium_robotics-1.3.1-0.editable-py3-none-any.whl size=7356 sha256=e822446f3b2bcd9a08422310a1ea81413fc332be80b5694e60dc58e9f6bac8c1\n",
            "  Stored in directory: /tmp/pip-ephem-wheel-cache-rrw3f57l/wheels/bc/45/9d/11a617e60b04ef39c544b7fa0f6698f8c6e22991f9d1aa14b0\n",
            "Successfully built gymnasium-robotics\n",
            "Installing collected packages: glfw, PettingZoo, mujoco, gymnasium-robotics\n",
            "Successfully installed PettingZoo-1.24.3 glfw-2.8.0 gymnasium-robotics-1.3.1 mujoco-3.2.7\n"
          ]
        }
      ],
      "source": [
        "!pip install \"cython<3\"\n",
        "!git clone https://github.com/Farama-Foundation/Gymnasium-Robotics.git\n",
        "!pip install -e Gymnasium-Robotics"
      ]
    },
    {
      "cell_type": "code",
      "execution_count": 2,
      "metadata": {
        "id": "uKHH-XGQW5aY",
        "colab": {
          "base_uri": "https://localhost:8080/"
        },
        "collapsed": true,
        "outputId": "26ad718e-057c-4da8-9e80-59bcd0252e99"
      },
      "outputs": [
        {
          "output_type": "stream",
          "name": "stdout",
          "text": [
            "rm: cannot remove '.mujoco_setup_complete': No such file or directory\n",
            "W: Skipping acquire of configured file 'main/source/Sources' as repository 'https://r2u.stat.illinois.edu/ubuntu jammy InRelease' does not seem to provide it (sources.list entry misspelt?)\n",
            "Selecting previously unselected package libglx-dev:amd64.\n",
            "(Reading database ... 124926 files and directories currently installed.)\n",
            "Preparing to unpack .../00-libglx-dev_1.4.0-1_amd64.deb ...\n",
            "Unpacking libglx-dev:amd64 (1.4.0-1) ...\n",
            "Selecting previously unselected package libgl-dev:amd64.\n",
            "Preparing to unpack .../01-libgl-dev_1.4.0-1_amd64.deb ...\n",
            "Unpacking libgl-dev:amd64 (1.4.0-1) ...\n",
            "Selecting previously unselected package libegl-dev:amd64.\n",
            "Preparing to unpack .../02-libegl-dev_1.4.0-1_amd64.deb ...\n",
            "Unpacking libegl-dev:amd64 (1.4.0-1) ...\n",
            "Selecting previously unselected package libgl1-mesa-glx:amd64.\n",
            "Preparing to unpack .../03-libgl1-mesa-glx_23.0.4-0ubuntu1~22.04.1_amd64.deb ...\n",
            "Unpacking libgl1-mesa-glx:amd64 (23.0.4-0ubuntu1~22.04.1) ...\n",
            "Selecting previously unselected package libgles1:amd64.\n",
            "Preparing to unpack .../04-libgles1_1.4.0-1_amd64.deb ...\n",
            "Unpacking libgles1:amd64 (1.4.0-1) ...\n",
            "Selecting previously unselected package libgles-dev:amd64.\n",
            "Preparing to unpack .../05-libgles-dev_1.4.0-1_amd64.deb ...\n",
            "Unpacking libgles-dev:amd64 (1.4.0-1) ...\n",
            "Selecting previously unselected package libglvnd-core-dev:amd64.\n",
            "Preparing to unpack .../06-libglvnd-core-dev_1.4.0-1_amd64.deb ...\n",
            "Unpacking libglvnd-core-dev:amd64 (1.4.0-1) ...\n",
            "Selecting previously unselected package libopengl-dev:amd64.\n",
            "Preparing to unpack .../07-libopengl-dev_1.4.0-1_amd64.deb ...\n",
            "Unpacking libopengl-dev:amd64 (1.4.0-1) ...\n",
            "Selecting previously unselected package libglvnd-dev:amd64.\n",
            "Preparing to unpack .../08-libglvnd-dev_1.4.0-1_amd64.deb ...\n",
            "Unpacking libglvnd-dev:amd64 (1.4.0-1) ...\n",
            "Selecting previously unselected package libgl1-mesa-dev:amd64.\n",
            "Preparing to unpack .../09-libgl1-mesa-dev_23.2.1-1ubuntu3.1~22.04.3_amd64.deb ...\n",
            "Unpacking libgl1-mesa-dev:amd64 (23.2.1-1ubuntu3.1~22.04.3) ...\n",
            "Selecting previously unselected package libglu1-mesa:amd64.\n",
            "Preparing to unpack .../10-libglu1-mesa_9.0.2-1_amd64.deb ...\n",
            "Unpacking libglu1-mesa:amd64 (9.0.2-1) ...\n",
            "Selecting previously unselected package libglu1-mesa-dev:amd64.\n",
            "Preparing to unpack .../11-libglu1-mesa-dev_9.0.2-1_amd64.deb ...\n",
            "Unpacking libglu1-mesa-dev:amd64 (9.0.2-1) ...\n",
            "Selecting previously unselected package libglew-dev:amd64.\n",
            "Preparing to unpack .../12-libglew-dev_2.2.0-4_amd64.deb ...\n",
            "Unpacking libglew-dev:amd64 (2.2.0-4) ...\n",
            "Selecting previously unselected package libglfw3:amd64.\n",
            "Preparing to unpack .../13-libglfw3_3.3.6-1_amd64.deb ...\n",
            "Unpacking libglfw3:amd64 (3.3.6-1) ...\n",
            "Selecting previously unselected package patchelf.\n",
            "Preparing to unpack .../14-patchelf_0.14.3-1_amd64.deb ...\n",
            "Unpacking patchelf (0.14.3-1) ...\n",
            "Selecting previously unselected package libosmesa6:amd64.\n",
            "Preparing to unpack .../15-libosmesa6_23.2.1-1ubuntu3.1~22.04.3_amd64.deb ...\n",
            "Unpacking libosmesa6:amd64 (23.2.1-1ubuntu3.1~22.04.3) ...\n",
            "Selecting previously unselected package libosmesa6-dev:amd64.\n",
            "Preparing to unpack .../16-libosmesa6-dev_23.2.1-1ubuntu3.1~22.04.3_amd64.deb ...\n",
            "Unpacking libosmesa6-dev:amd64 (23.2.1-1ubuntu3.1~22.04.3) ...\n",
            "Setting up libglfw3:amd64 (3.3.6-1) ...\n",
            "Setting up libglvnd-core-dev:amd64 (1.4.0-1) ...\n",
            "Setting up libgles1:amd64 (1.4.0-1) ...\n",
            "Setting up libgl1-mesa-glx:amd64 (23.0.4-0ubuntu1~22.04.1) ...\n",
            "Setting up libglx-dev:amd64 (1.4.0-1) ...\n",
            "Setting up libglu1-mesa:amd64 (9.0.2-1) ...\n",
            "Setting up libopengl-dev:amd64 (1.4.0-1) ...\n",
            "Setting up patchelf (0.14.3-1) ...\n",
            "Setting up libgl-dev:amd64 (1.4.0-1) ...\n",
            "Setting up libosmesa6:amd64 (23.2.1-1ubuntu3.1~22.04.3) ...\n",
            "Setting up libegl-dev:amd64 (1.4.0-1) ...\n",
            "Setting up libglu1-mesa-dev:amd64 (9.0.2-1) ...\n",
            "Setting up libosmesa6-dev:amd64 (23.2.1-1ubuntu3.1~22.04.3) ...\n",
            "Setting up libgles-dev:amd64 (1.4.0-1) ...\n",
            "Setting up libglvnd-dev:amd64 (1.4.0-1) ...\n",
            "Setting up libglew-dev:amd64 (2.2.0-4) ...\n",
            "Setting up libgl1-mesa-dev:amd64 (23.2.1-1ubuntu3.1~22.04.3) ...\n",
            "Processing triggers for man-db (2.10.2-1) ...\n",
            "Processing triggers for libc-bin (2.35-0ubuntu3.8) ...\n",
            "/sbin/ldconfig.real: /usr/local/lib/libtbbbind_2_5.so.3 is not a symbolic link\n",
            "\n",
            "/sbin/ldconfig.real: /usr/local/lib/libtcm_debug.so.1 is not a symbolic link\n",
            "\n",
            "/sbin/ldconfig.real: /usr/local/lib/libtbbmalloc.so.2 is not a symbolic link\n",
            "\n",
            "/sbin/ldconfig.real: /usr/local/lib/libtbbbind_2_0.so.3 is not a symbolic link\n",
            "\n",
            "/sbin/ldconfig.real: /usr/local/lib/libtbbmalloc_proxy.so.2 is not a symbolic link\n",
            "\n",
            "/sbin/ldconfig.real: /usr/local/lib/libur_adapter_level_zero.so.0 is not a symbolic link\n",
            "\n",
            "/sbin/ldconfig.real: /usr/local/lib/libur_adapter_opencl.so.0 is not a symbolic link\n",
            "\n",
            "/sbin/ldconfig.real: /usr/local/lib/libtbbbind.so.3 is not a symbolic link\n",
            "\n",
            "/sbin/ldconfig.real: /usr/local/lib/libur_loader.so.0 is not a symbolic link\n",
            "\n",
            "/sbin/ldconfig.real: /usr/local/lib/libtbb.so.12 is not a symbolic link\n",
            "\n",
            "/sbin/ldconfig.real: /usr/local/lib/libtcm.so.1 is not a symbolic link\n",
            "\n",
            "/sbin/ldconfig.real: /usr/local/lib/libumf.so.0 is not a symbolic link\n",
            "\n",
            "/sbin/ldconfig.real: /usr/local/lib/libhwloc.so.15 is not a symbolic link\n",
            "\n",
            "/sbin/ldconfig.real: /usr/local/lib/libtbbbind_2_5.so.3 is not a symbolic link\n",
            "\n",
            "/sbin/ldconfig.real: /usr/local/lib/libtcm_debug.so.1 is not a symbolic link\n",
            "\n",
            "/sbin/ldconfig.real: /usr/local/lib/libtbbmalloc.so.2 is not a symbolic link\n",
            "\n",
            "/sbin/ldconfig.real: /usr/local/lib/libtbbbind_2_0.so.3 is not a symbolic link\n",
            "\n",
            "/sbin/ldconfig.real: /usr/local/lib/libtbbmalloc_proxy.so.2 is not a symbolic link\n",
            "\n",
            "/sbin/ldconfig.real: /usr/local/lib/libur_adapter_level_zero.so.0 is not a symbolic link\n",
            "\n",
            "/sbin/ldconfig.real: /usr/local/lib/libur_adapter_opencl.so.0 is not a symbolic link\n",
            "\n",
            "/sbin/ldconfig.real: /usr/local/lib/libtbbbind.so.3 is not a symbolic link\n",
            "\n",
            "/sbin/ldconfig.real: /usr/local/lib/libur_loader.so.0 is not a symbolic link\n",
            "\n",
            "/sbin/ldconfig.real: /usr/local/lib/libtbb.so.12 is not a symbolic link\n",
            "\n",
            "/sbin/ldconfig.real: /usr/local/lib/libtcm.so.1 is not a symbolic link\n",
            "\n",
            "/sbin/ldconfig.real: /usr/local/lib/libumf.so.0 is not a symbolic link\n",
            "\n",
            "/sbin/ldconfig.real: /usr/local/lib/libhwloc.so.15 is not a symbolic link\n",
            "\n",
            "Collecting mujoco-py<2.2,>=2.1\n",
            "  Downloading mujoco_py-2.1.2.14-py3-none-any.whl.metadata (669 bytes)\n",
            "Requirement already satisfied: glfw>=1.4.0 in /usr/local/lib/python3.11/dist-packages (from mujoco-py<2.2,>=2.1) (2.8.0)\n",
            "Requirement already satisfied: numpy>=1.11 in /usr/local/lib/python3.11/dist-packages (from mujoco-py<2.2,>=2.1) (1.26.4)\n",
            "Requirement already satisfied: Cython>=0.27.2 in /usr/local/lib/python3.11/dist-packages (from mujoco-py<2.2,>=2.1) (0.29.37)\n",
            "Requirement already satisfied: imageio>=2.1.2 in /usr/local/lib/python3.11/dist-packages (from mujoco-py<2.2,>=2.1) (2.37.0)\n",
            "Requirement already satisfied: cffi>=1.10 in /usr/local/lib/python3.11/dist-packages (from mujoco-py<2.2,>=2.1) (1.17.1)\n",
            "Collecting fasteners~=0.15 (from mujoco-py<2.2,>=2.1)\n",
            "  Downloading fasteners-0.19-py3-none-any.whl.metadata (4.9 kB)\n",
            "Requirement already satisfied: pycparser in /usr/local/lib/python3.11/dist-packages (from cffi>=1.10->mujoco-py<2.2,>=2.1) (2.22)\n",
            "Requirement already satisfied: pillow>=8.3.2 in /usr/local/lib/python3.11/dist-packages (from imageio>=2.1.2->mujoco-py<2.2,>=2.1) (11.1.0)\n",
            "Downloading mujoco_py-2.1.2.14-py3-none-any.whl (2.4 MB)\n",
            "\u001b[2K   \u001b[90m━━━━━━━━━━━━━━━━━━━━━━━━━━━━━━━━━━━━━━━━\u001b[0m \u001b[32m2.4/2.4 MB\u001b[0m \u001b[31m30.9 MB/s\u001b[0m eta \u001b[36m0:00:00\u001b[0m\n",
            "\u001b[?25hDownloading fasteners-0.19-py3-none-any.whl (18 kB)\n",
            "Installing collected packages: fasteners, mujoco-py\n",
            "Successfully installed fasteners-0.19 mujoco-py-2.1.2.14\n",
            "Compiling /usr/local/lib/python3.11/dist-packages/mujoco_py/cymj.pyx because it changed.\n",
            "[1/1] Cythonizing /usr/local/lib/python3.11/dist-packages/mujoco_py/cymj.pyx\n"
          ]
        },
        {
          "output_type": "stream",
          "name": "stderr",
          "text": [
            "INFO:root:running build_ext\n",
            "INFO:root:building 'mujoco_py.cymj' extension\n",
            "INFO:root:creating /usr/local/lib/python3.11/dist-packages/mujoco_py/generated/_pyxbld_2.1.2.14_311_linuxcpuextensionbuilder/temp.linux-x86_64-cpython-311/usr/local/lib/python3.11/dist-packages/mujoco_py\n",
            "INFO:root:creating /usr/local/lib/python3.11/dist-packages/mujoco_py/generated/_pyxbld_2.1.2.14_311_linuxcpuextensionbuilder/temp.linux-x86_64-cpython-311/usr/local/lib/python3.11/dist-packages/mujoco_py/gl\n",
            "INFO:root:x86_64-linux-gnu-gcc -Wsign-compare -DNDEBUG -g -fwrapv -O2 -Wall -g -fstack-protector-strong -Wformat -Werror=format-security -g -fwrapv -O2 -fPIC -I/usr/local/lib/python3.11/dist-packages/mujoco_py -I/root/.mujoco/mujoco210/include -I/usr/local/lib/python3.11/dist-packages/numpy/core/include -I/usr/include/python3.11 -c /usr/local/lib/python3.11/dist-packages/mujoco_py/cymj.c -o /usr/local/lib/python3.11/dist-packages/mujoco_py/generated/_pyxbld_2.1.2.14_311_linuxcpuextensionbuilder/temp.linux-x86_64-cpython-311/usr/local/lib/python3.11/dist-packages/mujoco_py/cymj.o -fopenmp -w\n",
            "INFO:root:x86_64-linux-gnu-gcc -Wsign-compare -DNDEBUG -g -fwrapv -O2 -Wall -g -fstack-protector-strong -Wformat -Werror=format-security -g -fwrapv -O2 -fPIC -I/usr/local/lib/python3.11/dist-packages/mujoco_py -I/root/.mujoco/mujoco210/include -I/usr/local/lib/python3.11/dist-packages/numpy/core/include -I/usr/include/python3.11 -c /usr/local/lib/python3.11/dist-packages/mujoco_py/gl/osmesashim.c -o /usr/local/lib/python3.11/dist-packages/mujoco_py/generated/_pyxbld_2.1.2.14_311_linuxcpuextensionbuilder/temp.linux-x86_64-cpython-311/usr/local/lib/python3.11/dist-packages/mujoco_py/gl/osmesashim.o -fopenmp -w\n",
            "INFO:root:creating /usr/local/lib/python3.11/dist-packages/mujoco_py/generated/_pyxbld_2.1.2.14_311_linuxcpuextensionbuilder/lib.linux-x86_64-cpython-311/mujoco_py\n",
            "INFO:root:x86_64-linux-gnu-gcc -shared -Wl,-O1 -Wl,-Bsymbolic-functions -Wl,-Bsymbolic-functions -g -fwrapv -O2 /usr/local/lib/python3.11/dist-packages/mujoco_py/generated/_pyxbld_2.1.2.14_311_linuxcpuextensionbuilder/temp.linux-x86_64-cpython-311/usr/local/lib/python3.11/dist-packages/mujoco_py/cymj.o /usr/local/lib/python3.11/dist-packages/mujoco_py/generated/_pyxbld_2.1.2.14_311_linuxcpuextensionbuilder/temp.linux-x86_64-cpython-311/usr/local/lib/python3.11/dist-packages/mujoco_py/gl/osmesashim.o -L/root/.mujoco/mujoco210/bin -L/usr/lib/x86_64-linux-gnu -Wl,--enable-new-dtags,-rpath,/root/.mujoco/mujoco210/bin -lmujoco210 -lglewosmesa -lOSMesa -lGL -o /usr/local/lib/python3.11/dist-packages/mujoco_py/generated/_pyxbld_2.1.2.14_311_linuxcpuextensionbuilder/lib.linux-x86_64-cpython-311/mujoco_py/cymj.cpython-311-x86_64-linux-gnu.so -fopenmp\n"
          ]
        }
      ],
      "source": [
        "#Include this at the top of your colab code\n",
        "import os\n",
        "!rm .mujoco_setup_complete\n",
        "if not os.path.exists('.mujoco_setup_complete'):\n",
        "  # Get the prereqs\n",
        "  !apt-get -qq update\n",
        "  !apt-get -qq install -y libosmesa6-dev libgl1-mesa-glx libglfw3 libgl1-mesa-dev libglew-dev patchelf\n",
        "  # Get Mujoco\n",
        "  !rm -rf ~/.mujoco\n",
        "  !mkdir ~/.mujoco\n",
        "  !wget -q https://mujoco.org/download/mujoco210-linux-x86_64.tar.gz -O mujoco.tar.gz\n",
        "  !tar -zxf mujoco.tar.gz -C \"$HOME/.mujoco\"\n",
        "  !rm mujoco.tar.gz\n",
        "  # Add it to the actively loaded path and the bashrc path (these only do so much)\n",
        "  !echo 'export LD_LIBRARY_PATH=$LD_LIBRARY_PATH:$HOME/.mujoco/mujoco210/bin' >> ~/.bashrc\n",
        "  !echo 'export LD_PRELOAD=$LD_PRELOAD:/usr/lib/x86_64-linux-gnu/libGLEW.so' >> ~/.bashrc\n",
        "  # THE ANNOYING ONE, FORCE IT INTO LDCONFIG SO WE ACTUALLY GET ACCESS TO IT THIS SESSION\n",
        "  !echo \"/root/.mujoco/mujoco210/bin\" > /etc/ld.so.conf.d/mujoco_ld_lib_path.conf\n",
        "  !ldconfig\n",
        "  # Install Mujoco-py\n",
        "  !pip3 install -U 'mujoco-py<2.2,>=2.1'\n",
        "  # run once\n",
        "  !touch .mujoco_setup_complete\n",
        "\n",
        "\n",
        "try:\n",
        "  if _mujoco_run_once:\n",
        "    pass\n",
        "except NameError:\n",
        "  _mujoco_run_once = False\n",
        "if not _mujoco_run_once:\n",
        "  # Add it to the actively loaded path and the bashrc path (these only do so much)\n",
        "  try:\n",
        "    os.environ['LD_LIBRARY_PATH']=os.environ['LD_LIBRARY_PATH'] + ':/root/.mujoco/mujoco210/bin'\n",
        "  except KeyError:\n",
        "    os.environ['LD_LIBRARY_PATH']='/root/.mujoco/mujoco210/bin'\n",
        "  try:\n",
        "    os.environ['LD_PRELOAD']=os.environ['LD_PRELOAD'] + ':/usr/lib/x86_64-linux-gnu/libGLEW.so'\n",
        "  except KeyError:\n",
        "    os.environ['LD_PRELOAD']='/usr/lib/x86_64-linux-gnu/libGLEW.so'\n",
        "  # presetup so we don't see output on first env initialization\n",
        "  import mujoco_py\n",
        "  _mujoco_run_once = True"
      ]
    },
    {
      "cell_type": "code",
      "execution_count": null,
      "metadata": {
        "id": "Y07C0IpATP7S"
      },
      "outputs": [],
      "source": [
        "import torch\n",
        "if torch.cuda.is_available():\n",
        "    print(\"GPU is available\")\n",
        "    !pip install mujoco\n",
        "\n",
        "    # Set up GPU rendering.\n",
        "    from google.colab import files\n",
        "    import distutils.util\n",
        "    import os\n",
        "    import subprocess\n",
        "    if subprocess.run('nvidia-smi').returncode:\n",
        "        raise RuntimeError(\n",
        "            'Cannot communicate with GPU. '\n",
        "            'Make sure you are using a GPU Colab runtime. '\n",
        "            'Go to the Runtime menu and select Choose runtime type.')\n",
        "\n",
        "    # Add an ICD config so that glvnd can pick up the Nvidia EGL driver.\n",
        "    # This is usually installed as part of an Nvidia driver package, but the Colab\n",
        "    # kernel doesn't install its driver via APT, and as a result the ICD is missing.\n",
        "    # (https://github.com/NVIDIA/libglvnd/blob/master/src/EGL/icd_enumeration.md)\n",
        "    NVIDIA_ICD_CONFIG_PATH = '/usr/share/glvnd/egl_vendor.d/10_nvidia.json'\n",
        "    if not os.path.exists(NVIDIA_ICD_CONFIG_PATH):\n",
        "        with open(NVIDIA_ICD_CONFIG_PATH, 'w') as f:\n",
        "            f.write(\"\"\"{\n",
        "            \"file_format_version\" : \"1.0.0\",\n",
        "            \"ICD\" : {\n",
        "                \"library_path\" : \"libEGL_nvidia.so.0\"\n",
        "            }\n",
        "        }\n",
        "        \"\"\")\n",
        "\n",
        "    # Configure MuJoCo to use the EGL rendering backend (requires GPU)\n",
        "    print('Setting environment variable to use GPU rendering:')\n",
        "    %env MUJOCO_GL=egl\n",
        "\n",
        "    # Check if installation was succesful.\n",
        "    try:\n",
        "        print('Checking that the installation succeeded:')\n",
        "        import mujoco\n",
        "        mujoco.MjModel.from_xml_string('<mujoco/>')\n",
        "    except Exception as e:\n",
        "        raise e from RuntimeError(\n",
        "            'Something went wrong during installation. Check the shell output above '\n",
        "            'for more information.\\n'\n",
        "            'If using a hosted Colab runtime, make sure you enable GPU acceleration '\n",
        "            'by going to the Runtime menu and selecting \"Choose runtime type\".')\n",
        "\n",
        "    print('Installation successful.')\n",
        "\n",
        "    # Other imports and helper functions\n",
        "    import time\n",
        "    import itertools\n",
        "    import numpy as np\n",
        "\n",
        "    # Graphics and plotting.\n",
        "    print('Installing mediapy:')\n",
        "    !command -v ffmpeg >/dev/null || (apt update && apt install -y ffmpeg)\n",
        "    !pip install -q mediapy\n",
        "    import mediapy as media\n",
        "    import matplotlib.pyplot as plt\n",
        "\n",
        "    # More legible printing from numpy.\n",
        "    np.set_printoptions(precision=3, suppress=True, linewidth=100)\n",
        "\n",
        "    from IPython.display import clear_output\n",
        "    clear_output()\n"
      ]
    },
    {
      "cell_type": "code",
      "execution_count": null,
      "metadata": {
        "id": "o68xk-XVP43Z",
        "collapsed": true
      },
      "outputs": [],
      "source": [
        "!apt-get install -y xvfb python-opengl ffmpeg > /dev/null 2>&1\n",
        "!pip install renderlab"
      ]
    },
    {
      "cell_type": "code",
      "execution_count": null,
      "metadata": {
        "id": "nUR0dp_RPE7k"
      },
      "outputs": [],
      "source": [
        "import sys\n",
        "sys.path.append('/content/Gymnasium-Robotics')\n",
        "import gymnasium as gym\n",
        "import gymnasium_robotics\n",
        "import renderlab as rl\n",
        "\n",
        "ROBOT_PROPRIOCEPTION_KEY = 'observation'\n",
        "ROBOT_XYZ_GOAL_KEY = 'desired_goal'"
      ]
    },
    {
      "cell_type": "markdown",
      "metadata": {
        "id": "MqbGVz9z8Zo8"
      },
      "source": [
        "### **Downloading Expert File**\n"
      ]
    },
    {
      "cell_type": "code",
      "execution_count": null,
      "metadata": {
        "id": "CqYWlZSgbroN"
      },
      "outputs": [],
      "source": [
        "!wget https://github.com/kuanfang/cornell-cs4756-2025sp/raw/main/assignments/A1/programming/expert.pt"
      ]
    },
    {
      "cell_type": "markdown",
      "metadata": {
        "id": "PJczc-qw8rJ6"
      },
      "source": [
        "# **Environment and Expert Setup**\n",
        "The environment is held in ```env``` and the expert agent is held in ```actor_network```.\n",
        "\n",
        "\n",
        "\n",
        "\n"
      ]
    },
    {
      "cell_type": "code",
      "execution_count": null,
      "metadata": {
        "id": "fcJtRqVSPh31"
      },
      "outputs": [],
      "source": [
        "import torch\n",
        "import torch.nn as nn\n",
        "import torch.nn.functional as F\n",
        "device = torch.device(\"cuda:0\" if torch.cuda.is_available() else \"cpu\")\n",
        "\n",
        "def process_inputs(o, g, o_mean, o_std, g_mean, g_std, clip_obs, clip_range):\n",
        "    o_clip = np.clip(o, -clip_obs, clip_obs)\n",
        "    g_clip = np.clip(g, -clip_obs, clip_obs)\n",
        "    o_norm = np.clip((o_clip - o_mean) / (o_std), -clip_range, clip_range)\n",
        "    g_norm = np.clip((g_clip - g_mean) / (g_std), -clip_range, clip_range)\n",
        "    inputs = np.concatenate([o_norm, g_norm])\n",
        "    inputs = torch.tensor(inputs, dtype=torch.float32)\n",
        "    return inputs\n",
        "\n",
        "\n",
        "# define the Expert network\n",
        "class Expert(nn.Module):\n",
        "    def __init__(self, env_params, o_mean, o_std, g_mean, g_std):\n",
        "        super(Expert, self).__init__()\n",
        "        self.max_action = env_params['action_max']\n",
        "        self.fc1 = nn.Linear(env_params[ROBOT_PROPRIOCEPTION_KEY] + env_params[ROBOT_XYZ_GOAL_KEY], 256)\n",
        "        self.fc2 = nn.Linear(256, 256)\n",
        "        self.fc3 = nn.Linear(256, 256)\n",
        "        self.action_out = nn.Linear(256, env_params['action'])\n",
        "        self.o_mean = o_mean\n",
        "        self.o_std = o_std\n",
        "        self.g_mean = g_mean\n",
        "        self.g_std = g_std\n",
        "        self.clip_obs = 200\n",
        "        self.clip_range = 5\n",
        "\n",
        "    def forward(self, x):\n",
        "        x = F.relu(self.fc1(x))\n",
        "        x = F.relu(self.fc2(x))\n",
        "        x = F.relu(self.fc3(x))\n",
        "        actions = self.max_action * torch.tanh(self.action_out(x))\n",
        "\n",
        "        return actions\n",
        "\n",
        "    def get_expert_action(self, prop, g):\n",
        "        inputs = process_inputs(prop, g, self.o_mean, self.o_std, self.g_mean, self.g_std, self.clip_obs, self.clip_range).to(device)\n",
        "        pi = self.forward(inputs)\n",
        "        action = pi.detach().cpu().numpy().squeeze()\n",
        "        return action\n",
        "\n"
      ]
    },
    {
      "cell_type": "markdown",
      "metadata": {
        "id": "wxFod0nzpU1G"
      },
      "source": [
        "## **Notes about Fetch Reach Environment**\n",
        "The environment uses a Fetch Robot, which is a 7-DoF Mobile Manipulator.\n",
        "\n",
        "The task is a *goal-reaching task*:\n",
        "The observation space is a dictionary which contains the robot's proprioception (under the key `ROBOT_PROPRIOCEPTION_KEY`), and the xyz coordinate that the robot's gripper aims to reach (under the key `ROBOT_GOAL_XYZ_KEY`).\n",
        "\n",
        "All agents have functions defined which take the two pieces of data in order to predict an action to take.\n",
        "\n",
        "See https://robotics.farama.org/envs/fetch/reach/ for more details.\n",
        "\n",
        "If the goal is reached, `info['is_success']` will be set to 1, and this is an indication that we should terminate the rollout.\n",
        "\n",
        "The reward (used only for evaluation in this assignment) is -1 per timestep spent in the environment without completing the task, with 50 steps being the limit (so -50 is the worst episode return)."
      ]
    },
    {
      "cell_type": "code",
      "execution_count": null,
      "metadata": {
        "id": "7_L5P4YnT6Aa"
      },
      "outputs": [],
      "source": [
        "print(device)\n",
        "model_path = \"expert.pt\"\n",
        "o_mean, o_std, g_mean, g_std, model = torch.load(model_path, map_location=lambda storage, loc: storage)\n",
        "model\n",
        "# create the environment\n",
        "env = gym.make('FetchReach-v4', render_mode='rgb_array')# get the env param\n",
        "observation, _ = env.reset()\n",
        "\n",
        "# get the environment params\n",
        "env_params = {ROBOT_PROPRIOCEPTION_KEY: observation[ROBOT_PROPRIOCEPTION_KEY].shape[0],\n",
        "                ROBOT_XYZ_GOAL_KEY: observation[ROBOT_XYZ_GOAL_KEY].shape[0],\n",
        "                'action': env.action_space.shape[0],\n",
        "                'action_max': env.action_space.high[0],\n",
        "                }\n",
        "# create the Expert network\n",
        "expert_network = Expert(env_params, o_mean, o_std, g_mean, g_std)\n",
        "expert_network.to(device)\n",
        "expert_network.load_state_dict(model)\n",
        "expert_network.eval()"
      ]
    },
    {
      "cell_type": "code",
      "execution_count": null,
      "metadata": {
        "id": "d9HT4r0jPZWn"
      },
      "outputs": [],
      "source": [
        "import mujoco_py\n",
        "import torch.nn as nn\n",
        "import torch\n",
        "import numpy as np\n",
        "import random\n",
        "import tqdm\n",
        "from tqdm import tqdm\n",
        "import torch.nn.functional as F\n",
        "from torch.utils.data import TensorDataset, DataLoader\n",
        "from torch.optim import optimizer\n",
        "import matplotlib.pyplot as plt\n",
        "from IPython import display as ipythondisplay"
      ]
    },
    {
      "cell_type": "code",
      "execution_count": null,
      "metadata": {
        "id": "QvprulQEPbqs"
      },
      "outputs": [],
      "source": [
        "# Setting the seed to ensure reproducability\n",
        "def reseed(seed):\n",
        "  torch.manual_seed(seed)\n",
        "  random.seed(seed)\n",
        "  np.random.seed(seed)\n",
        "\n",
        "reseed(42)"
      ]
    },
    {
      "cell_type": "markdown",
      "metadata": {
        "id": "q_qBssuw9BIJ"
      },
      "source": [
        "# **Example Demonstration Rollouts**\n",
        "### **Visualizing the Fetch Reach environment**\n",
        "\n",
        "We have provided functions to visualize the environment and compute rewards on the Fetch Reach environment with random actions or expert actions. Looking through this code will help you get familiarized with the environment, and set you up for the next parts in this assignment.\n",
        "\n",
        "We disabled the visualizations by default since they greatly slow down the evaluation, but feel free to turn it on if you're interested. You'll have to set visualize to True in the cell below and render_mode to 'rgb_array' when setting up the environment. Note that visualization will only be possible if T4 GPU runtime is available."
      ]
    },
    {
      "cell_type": "code",
      "execution_count": null,
      "metadata": {
        "id": "28GY6jO3O3z7"
      },
      "outputs": [],
      "source": [
        "NUM_TRAJS = 10\n",
        "visualize = False and torch.cuda.is_available() # set to false in order to disable rendering code\n",
        "if visualize:\n",
        "    env = rl.RenderFrame(env, './output')\n",
        "if visualize:\n",
        "    plt.axis('off')\n",
        "total_reward_random = 0\n",
        "i = 0\n",
        "\n",
        "for k in range(NUM_TRAJS):\n",
        "  done = False\n",
        "  observation, info = env.reset(seed = k)\n",
        "  while not done:\n",
        "    i += 1\n",
        "    if visualize and i%5==0:\n",
        "      ipythondisplay.clear_output(wait=True)\n",
        "      screen = env.render()\n",
        "      plt.imshow(screen)\n",
        "      ipythondisplay.display(plt.gcf())\n",
        "    action = env.action_space.sample()\n",
        "    observation, reward, terminated, truncated, info = env.step(action)\n",
        "    done = terminated or truncated or info['is_success']\n",
        "    total_reward_random += reward\n",
        "    if done:\n",
        "        break\n",
        "total_reward_random /= NUM_TRAJS\n",
        "print(f\"Avg Reward using Random Actions = \", (total_reward_random))"
      ]
    },
    {
      "cell_type": "code",
      "execution_count": null,
      "metadata": {
        "id": "3oAYUuYevOZh"
      },
      "outputs": [],
      "source": [
        "NUM_TRAJS = 10\n",
        "visualize = True and torch.cuda.is_available() # set to false in order to disable rendering code\n",
        "if visualize:\n",
        "    env = rl.RenderFrame(env, './output')\n",
        "if visualize:\n",
        "    plt.axis('off')\n",
        "total_reward = 0\n",
        "i = 0\n",
        "\n",
        "for k in range(NUM_TRAJS):\n",
        "  done = False\n",
        "  observation, info = env.reset(seed = k)\n",
        "  while not done:\n",
        "    i += 1\n",
        "    if visualize and i%5==0:\n",
        "      ipythondisplay.clear_output(wait=True)\n",
        "      screen = env.render()\n",
        "      plt.imshow(screen)\n",
        "      ipythondisplay.display(plt.gcf())\n",
        "    action = expert_network.get_expert_action(observation[ROBOT_PROPRIOCEPTION_KEY], observation[ROBOT_XYZ_GOAL_KEY])\n",
        "    observation, reward, terminated, truncated, info = env.step(action)\n",
        "    done = terminated or truncated or info['is_success']\n",
        "    total_reward += reward\n",
        "    if done:\n",
        "        break\n",
        "total_reward /= NUM_TRAJS\n",
        "print(f\"Avg Reward using Expert Actions = \", (total_reward))"
      ]
    },
    {
      "cell_type": "markdown",
      "metadata": {
        "id": "jW8o41mxo59n"
      },
      "source": [
        "**Approximate expected reward for total reward using random actions: -40 to -50**\n",
        "\n",
        "**Approximate expected reward for total reward using expert actions: -2 to -3**"
      ]
    },
    {
      "cell_type": "markdown",
      "metadata": {
        "id": "UD1ZHLTM9HYG"
      },
      "source": [
        "# **Defining Learner Agent Class**"
      ]
    },
    {
      "cell_type": "code",
      "execution_count": null,
      "metadata": {
        "id": "Hhnpo76JY24y"
      },
      "outputs": [],
      "source": [
        "class Learner(nn.Module):\n",
        "    def __init__(self, env, env_params, hidden_dim = 256, random_prob=0.0):\n",
        "        super().__init__()\n",
        "        self.fc1 = nn.Linear(env_params[ROBOT_PROPRIOCEPTION_KEY] + env_params[ROBOT_XYZ_GOAL_KEY], hidden_dim)\n",
        "        self.fc2 = nn.Linear(hidden_dim, hidden_dim)\n",
        "        self.fc_out = nn.Linear(hidden_dim, env_params['action'])\n",
        "\n",
        "        self.env = env\n",
        "        self.random_prob = random_prob\n",
        "\n",
        "    def forward(self, prop, g):\n",
        "        x = torch.cat([prop, g], dim=-1)\n",
        "        x = F.relu(self.fc1(x))\n",
        "        x = F.relu(self.fc2(x))\n",
        "        out = F.tanh(self.fc_out(x))\n",
        "        return out\n",
        "\n",
        "    def get_action(self, prop, g):\n",
        "        if np.random.random() < self.random_prob:\n",
        "            return self.env.action_space.sample()\n",
        "        action = self.forward(torch.tensor(prop).unsqueeze(0).to(device).float(), torch.tensor(g).unsqueeze(0).to(device).float())\n",
        "        return np.array(action[0].detach().cpu())"
      ]
    },
    {
      "cell_type": "code",
      "execution_count": null,
      "metadata": {
        "id": "v_XStdq5dbbP"
      },
      "outputs": [],
      "source": [
        "def get_checkpoint_path(algo):\n",
        "    \"\"\"Return the path to save the best performing model checkpoint.\n",
        "\n",
        "    Parameters:\n",
        "        algo (str)\n",
        "          Indicates which algorithm will be used to train the model\n",
        "\n",
        "    Returns:\n",
        "        checkpoint_path (str)\n",
        "            The path to save the best performing model checkpoint\n",
        "    \"\"\"\n",
        "    if algo == \"bc\":\n",
        "      return 'best_bc_checkpoint.pth'\n",
        "    elif algo == \"dagger\":\n",
        "      return 'best_dagger_checkpoint.pth'\n",
        "    return 'best_model_checkpoint.pth'"
      ]
    },
    {
      "cell_type": "markdown",
      "metadata": {
        "id": "WG0nfNoc9hdU"
      },
      "source": [
        "# **Collect Expert Demonstrations**"
      ]
    },
    {
      "cell_type": "code",
      "execution_count": null,
      "metadata": {
        "id": "EmomR2K7ddeq"
      },
      "outputs": [],
      "source": [
        "### Collecting trajectories (i.e. demonstrations) using the expert policy\n",
        "NUM_TRAJS = 12\n",
        "proprios, goals, actions = [], [], []\n",
        "reseed(1)\n",
        "for traj_num in tqdm(range(NUM_TRAJS), position=0, leave=True):\n",
        "    done = False\n",
        "    observation, _ = env.reset(seed = traj_num)\n",
        "    while not done:\n",
        "        with torch.no_grad():\n",
        "            action = expert_network.get_expert_action(observation[ROBOT_PROPRIOCEPTION_KEY], observation[ROBOT_XYZ_GOAL_KEY])\n",
        "            proprios.append(observation[ROBOT_PROPRIOCEPTION_KEY])\n",
        "            goals.append(observation[ROBOT_XYZ_GOAL_KEY])\n",
        "            action[-1] = 0\n",
        "            actions.append(action)\n",
        "            observation, reward, terminated, truncated, info = env.step(action)\n",
        "            done = terminated or truncated or info['is_success']\n",
        "        if done:\n",
        "            break\n",
        "train_proprios = proprios[:int(0.5*len(proprios))]\n",
        "train_goals = goals[:int(0.5*len(proprios))]\n",
        "train_actions = actions[:int(0.5*len(actions))]\n",
        "validation_proprios = proprios[int(0.5*len(proprios)):]\n",
        "validation_goals = goals[int(0.5*len(proprios)):]\n",
        "validation_actions = actions[int(0.5*len(actions)):]"
      ]
    },
    {
      "cell_type": "markdown",
      "metadata": {
        "id": "q-C_Gzco9l9p"
      },
      "source": [
        "# PART 1: (CS 4756/5756) **Implement and train BC Agent**"
      ]
    },
    {
      "cell_type": "markdown",
      "metadata": {
        "id": "RZCo8xmxrGjj"
      },
      "source": [
        "To begin, fill in the implementation for the training loop function in **`bc_train`**. We provide the loss function and optimizer already, just iterate through your dataloader and return the updated policy!\n",
        "\n",
        "You'll also measure the validation loss at each iteration to check for overfitting.\n",
        "\n",
        "Once you finish the training loop implementation, it is now time to build up your agents! **Behavior cloning (BC)** is the simplest imitation learning algorithm, where we perform supervised learning on the given (offline) expert dataset. We either do this via log-likelihood maximization (cross-entropy minimization) in the discrete action case, or mean-squared error minimization (can also do MLE) in the continuous control setting.\n",
        "\n",
        "If implemented correctly, training your BC model should take at most 1 minute."
      ]
    },
    {
      "cell_type": "code",
      "execution_count": 23,
      "metadata": {
        "id": "HZemVLJsl7Uh"
      },
      "outputs": [],
      "source": [
        "import gym\n",
        "import tqdm\n",
        "from tqdm import tqdm\n",
        "import torch.nn as nn\n",
        "import torch\n",
        "import matplotlib.pyplot as plt\n",
        "import numpy as np\n",
        "import torch.nn.functional as F\n",
        "from torch.utils.data import TensorDataset, DataLoader\n",
        "from torch.optim import optimizer\n",
        "\n",
        "def evaluate(env, learner):\n",
        "    NUM_TRAJS = 20\n",
        "    total_learner_reward = 0\n",
        "    for i in range(NUM_TRAJS):\n",
        "        done = False\n",
        "        observation, _ = env.reset(seed = i)\n",
        "        while not done:\n",
        "            action = learner.get_action(observation[ROBOT_PROPRIOCEPTION_KEY], observation[ROBOT_XYZ_GOAL_KEY])\n",
        "            observation, reward, terminated, truncated, info = env.step(action)\n",
        "            done = terminated or truncated or info['is_success']\n",
        "            total_learner_reward += reward\n",
        "            if done:\n",
        "                break\n",
        "    return total_learner_reward / NUM_TRAJS\n",
        "\n",
        "def bc_train(learner, proprios, goals, actions, validation_proprios, validation_goals, validation_acts, checkpoint_path, num_epochs=100):\n",
        "    \"\"\"Train function for learning a new policy using BC.\n",
        "\n",
        "    Parameters:\n",
        "        learner (Learner)\n",
        "            A Learner object (policy)\n",
        "        proprios (list of torch.tensor)\n",
        "            A list of pytorch arrays of shape (N, 10, )\n",
        "        goals (list of torch.tensor)\n",
        "            A list of pytorch arrays of shape (N, 3, )\n",
        "        actions (list of torch.tensor)\n",
        "            A list of pytorch arrays of shape (N, 4, )\n",
        "        checkpoint_path (str)\n",
        "            The path to save the best performing checkpoint\n",
        "        num_epochs (int)\n",
        "            Number of epochs to run the train function for\n",
        "\n",
        "    Returns:\n",
        "        learner (Learner)\n",
        "            A Learner object (policy)\n",
        "    \"\"\"\n",
        "    best_loss = float('inf')\n",
        "    best_model_state = None\n",
        "\n",
        "    loss_fn = torch.nn.MSELoss()\n",
        "    optimizer = torch.optim.Adam(learner.parameters(), lr=3e-4)\n",
        "    dataset = TensorDataset(proprios, goals, actions) # Create your dataset\n",
        "    dataloader = DataLoader(dataset, batch_size=256, shuffle=True) # Create your dataloader\n",
        "\n",
        "    # TODO: Complete the training loop here ###\n",
        "    loss = float('inf')\n",
        "    validation_losses = []\n",
        "    for epoch in tqdm(range(num_epochs)):\n",
        "        epoch_loss = 0\n",
        "        for batch_idx, (prop, g, act) in enumerate(dataloader):\n",
        "            optimizer.zero_grad()\n",
        "            predicted_actions = learner(prop, g)\n",
        "            loss = loss_fn(predicted_actions, act)\n",
        "            loss.backward()\n",
        "            optimizer.step()\n",
        "            epoch_loss += loss.item()\n",
        "\n",
        "        with torch.no_grad():\n",
        "            validation_loss = loss_fn(learner(validation_proprios, validation_goals), validation_acts)\n",
        "            validation_losses.append(validation_loss)\n",
        "\n",
        "        if epoch_loss < best_loss:\n",
        "            best_loss = epoch_loss\n",
        "            torch.save(learner.state_dict().copy(), checkpoint_path)\n",
        "    if checkpoint_path == 'best_bc_checkpoint.pth':\n",
        "        plt.plot(np.arange(0, num_epochs), [t.cpu().numpy() if isinstance(t, torch.Tensor) else t for t in validation_losses])\n",
        "        plt.title(\"Validation Loss vs. Iteration\")\n",
        "        plt.xlabel(\"Iteration\")\n",
        "        plt.ylabel(\"Validation Loss\")\n",
        "        plt.savefig(\"BC_validation_loss.png\")\n",
        "\n",
        "    return learner"
      ]
    },
    {
      "cell_type": "markdown",
      "metadata": {
        "id": "1GPQkFimrgnw"
      },
      "source": [
        "The resulting graph should show a clear downward trend without curving back up at the right side. If the validation loss increases at the end, it indicates overfitting."
      ]
    },
    {
      "cell_type": "code",
      "execution_count": 24,
      "metadata": {
        "id": "bTVYj5MJmGBh",
        "colab": {
          "base_uri": "https://localhost:8080/",
          "height": 579
        },
        "outputId": "00ee516b-98ef-4083-8d09-aa9f338c746b"
      },
      "outputs": [
        {
          "output_type": "stream",
          "name": "stderr",
          "text": [
            "100%|██████████| 1500/1500 [00:10<00:00, 140.51it/s]\n"
          ]
        },
        {
          "output_type": "execute_result",
          "data": {
            "text/plain": [
              "Learner(\n",
              "  (fc1): Linear(in_features=13, out_features=256, bias=True)\n",
              "  (fc2): Linear(in_features=256, out_features=256, bias=True)\n",
              "  (fc_out): Linear(in_features=256, out_features=4, bias=True)\n",
              ")"
            ]
          },
          "metadata": {},
          "execution_count": 24
        },
        {
          "output_type": "display_data",
          "data": {
            "text/plain": [
              "<Figure size 640x480 with 1 Axes>"
            ],
            "image/png": "[encoded data removed]"
          },
          "metadata": {}
        }
      ],
      "source": [
        "bc_learner = Learner(env, env_params)\n",
        "device = torch.device(\"cuda:0\" if torch.cuda.is_available() else \"cpu\")\n",
        "bc_learner.to(device)\n",
        "checkpoint_path = get_checkpoint_path(\"bc\")\n",
        "reseed(2)\n",
        "bc_train(\n",
        "    bc_learner,\n",
        "    torch.tensor(train_proprios).to(device).float(),\n",
        "    torch.tensor(train_goals).to(device).float(),\n",
        "    torch.tensor(train_actions).to(device).float(),\n",
        "    torch.tensor(validation_proprios).to(device).float(),\n",
        "    torch.tensor(validation_goals).to(device).float(),\n",
        "    torch.tensor(validation_actions).to(device).float(),\n",
        "    checkpoint_path,\n",
        "    num_epochs = 1500\n",
        ")"
      ]
    },
    {
      "cell_type": "markdown",
      "metadata": {
        "id": "TgUQ8gxorl01"
      },
      "source": [
        "### Evaluate the BC Agent's Performance\n",
        "**Approximate expected reward for BC learner: -10 to -15**"
      ]
    },
    {
      "cell_type": "code",
      "execution_count": 25,
      "metadata": {
        "id": "xLTLV-wTn9_A",
        "colab": {
          "base_uri": "https://localhost:8080/"
        },
        "outputId": "015fdf2b-b67c-49d5-c9b9-5984b2ed4a8b"
      },
      "outputs": [
        {
          "output_type": "stream",
          "name": "stderr",
          "text": [
            "WARNING:py.warnings:<ipython-input-25-2209cc39273a>:5: FutureWarning: You are using `torch.load` with `weights_only=False` (the current default value), which uses the default pickle module implicitly. It is possible to construct malicious pickle data which will execute arbitrary code during unpickling (See https://github.com/pytorch/pytorch/blob/main/SECURITY.md#untrusted-models for more details). In a future release, the default value for `weights_only` will be flipped to `True`. This limits the functions that could be executed during unpickling. Arbitrary objects will no longer be allowed to be loaded via this mode unless they are explicitly allowlisted by the user via `torch.serialization.add_safe_globals`. We recommend you start setting `weights_only=True` for any use case where you don't have full control of the loaded file. Please open an issue on GitHub for any issues related to this experimental feature.\n",
            "  bc_learner.load_state_dict(torch.load(checkpoint_path))\n",
            "\n"
          ]
        },
        {
          "output_type": "stream",
          "name": "stdout",
          "text": [
            "Avg Reward using Learner Actions =  -11.5\n",
            "Avg Reward using Expert Actions =  -1.8\n"
          ]
        }
      ],
      "source": [
        "bc_learner = Learner(env, env_params)\n",
        "device = torch.device(\"cuda:0\" if torch.cuda.is_available() else \"cpu\")\n",
        "bc_learner.to(device)\n",
        "checkpoint_path = get_checkpoint_path(\"bc\")\n",
        "bc_learner.load_state_dict(torch.load(checkpoint_path))\n",
        "bc_learner.eval()\n",
        "\n",
        "print(\"Avg Reward using Learner Actions = \", (evaluate(env, bc_learner)))\n",
        "print(\"Avg Reward using Expert Actions = \", (total_reward))\n",
        "\n"
      ]
    },
    {
      "cell_type": "markdown",
      "metadata": {
        "id": "FcULu9NS91A7"
      },
      "source": [
        "# PART 2: (CS 5756 Only) **Implement and train DAgger Agent**"
      ]
    },
    {
      "cell_type": "markdown",
      "metadata": {
        "id": "jQuFeDwmsJnA"
      },
      "source": [
        "**Dataset aggregation (DAgger)** is a fundamentally interactive algorithm, where we can query the expert any time we want to get information about how to proceed. This allows for significantly more freedom for the learner, as it can ask the expert anywhere and not be limited by the dataset that it is given to learn from.\n",
        "\n",
        "**Can we overcome suboptimal actions with DAgger?** Fundamentally, this algorithm allows the learner to recover from bad states and should lead to much better performance than simply behavior cloning a fixed set of expert demonstrations. For this portion of the assignment, you will interact with the environment using the learner policy with random actions. You will do so in **`interact`**.\n",
        "\n",
        "The DAgger policy will be initialized with the already learned BC policy and your dataset with the already collected expert demonstrations for BC.\n",
        "\n",
        "Training should take no longer than 2 minutes if implemented correctly."
      ]
    },
    {
      "cell_type": "code",
      "execution_count": 26,
      "metadata": {
        "id": "ysZJk_Cawvjw"
      },
      "outputs": [],
      "source": [
        "def interact(env, learner, expert_network, proprios, goals, actions, validation_proprios, validation_goals, validation_actions, checkpoint_path, seed, num_epochs=100, horizon=50):\n",
        "    \"\"\"Interact with the environment and update the learner policy using DAgger.\n",
        "\n",
        "    This function interacts with the given Gym environment and aggregates to\n",
        "    the BC dataset by querying the expert.\n",
        "\n",
        "    Parameters:\n",
        "        env (Env)\n",
        "            The gym environment (in this case, the Hopper gym environment)\n",
        "        learner (Learner)\n",
        "            A Learner object (policy)\n",
        "        expert_network (Expert)\n",
        "            An Expert object (expert policy)\n",
        "        proprios (list of torch.tensor)\n",
        "            A list of pytorch arrays of shape (N, 10, )\n",
        "        goals (list of torch.tensor)\n",
        "            A list of pytorch arrays of shape (N, 3, )\n",
        "        actions (list of torch.tensor)\n",
        "            A list of pytorch arrays of shape (N, 4, )\n",
        "        checkpoint_path (str)\n",
        "            The path to save the best performing model checkpoint\n",
        "        seed (int)\n",
        "            The seed to use for the environment\n",
        "        num_epochs (int)\n",
        "            Number of epochs to run the train function for\n",
        "    \"\"\"\n",
        "    NUM_INTERACTIONS = 9\n",
        "    best_reward = float('-inf')\n",
        "    best_model_state = None\n",
        "    for episode in range(NUM_INTERACTIONS):\n",
        "        for _ in range(2):\n",
        "            done = False\n",
        "            observation, _ = env.reset(seed = episode)\n",
        "            for _ in range(horizon):\n",
        "                # TODO: Implement Fetch Reach environment interaction and dataset aggregation here\n",
        "                #BEGIN SOLUTION\n",
        "                action = learner.get_action(observation[ROBOT_PROPRIOCEPTION_KEY], observation[ROBOT_XYZ_GOAL_KEY])\n",
        "                proprios = proprios.cpu() if isinstance(proprios, torch.Tensor) else proprios\n",
        "                goals = goals.cpu() if isinstance(goals, torch.Tensor) else goals\n",
        "                actions = actions.cpu() if isinstance(actions, torch.Tensor) else actions\n",
        "\n",
        "                proprios = proprios.tolist() if isinstance(proprios, torch.Tensor) else proprios\n",
        "                goals = goals.tolist() if isinstance(goals, torch.Tensor) else goals\n",
        "                actions = actions.tolist() if isinstance(actions, torch.Tensor) else actions\n",
        "\n",
        "                proprios.append(observation[ROBOT_PROPRIOCEPTION_KEY])\n",
        "                goals.append(observation[ROBOT_XYZ_GOAL_KEY])\n",
        "\n",
        "                expert_action = expert_network.get_expert_action(observation[ROBOT_PROPRIOCEPTION_KEY], observation[ROBOT_XYZ_GOAL_KEY])\n",
        "                actions.append(expert_action)\n",
        "\n",
        "                observation, reward, terminated, truncated, info = env.step(action)\n",
        "                done = terminated or truncated or info['is_success']\n",
        "                #END SOLUTION\n",
        "                if done:\n",
        "                    break\n",
        "        bc_train(learner,\n",
        "                 torch.tensor(proprios).to(device).float(),\n",
        "                torch.tensor(goals).to(device).float(),\n",
        "                torch.tensor(actions).to(device).float(),\n",
        "                torch.tensor(validation_proprios).to(device).float(),\n",
        "                torch.tensor(validation_goals).to(device).float(),\n",
        "                torch.tensor(validation_actions).to(device).float(),\n",
        "                 \"DAgger_Interaction_{}.pth\".format(episode), num_epochs)\n",
        "        reward = evaluate(env, learner)\n",
        "        print(f\"After interaction {episode}, reward = {reward}\")\n",
        "        if reward > best_reward:\n",
        "            best_reward = reward\n",
        "            torch.save(learner.state_dict().copy(), checkpoint_path)"
      ]
    },
    {
      "cell_type": "markdown",
      "metadata": {
        "id": "8WMuceBCwWro"
      },
      "source": [
        "**Approximate expected reward for DAgger learner: -4 to -8**"
      ]
    },
    {
      "cell_type": "code",
      "execution_count": 27,
      "metadata": {
        "id": "tmUVp6iRzYaz",
        "colab": {
          "base_uri": "https://localhost:8080/"
        },
        "outputId": "45409400-de1f-4a90-bde0-1c1ba32684c8"
      },
      "outputs": [
        {
          "output_type": "stream",
          "name": "stderr",
          "text": [
            "WARNING:py.warnings:<ipython-input-27-36c3d21b3d82>:4: FutureWarning: You are using `torch.load` with `weights_only=False` (the current default value), which uses the default pickle module implicitly. It is possible to construct malicious pickle data which will execute arbitrary code during unpickling (See https://github.com/pytorch/pytorch/blob/main/SECURITY.md#untrusted-models for more details). In a future release, the default value for `weights_only` will be flipped to `True`. This limits the functions that could be executed during unpickling. Arbitrary objects will no longer be allowed to be loaded via this mode unless they are explicitly allowlisted by the user via `torch.serialization.add_safe_globals`. We recommend you start setting `weights_only=True` for any use case where you don't have full control of the loaded file. Please open an issue on GitHub for any issues related to this experimental feature.\n",
            "  dagger_learner.load_state_dict(torch.load(checkpoint_path))\n",
            "\n"
          ]
        },
        {
          "output_type": "execute_result",
          "data": {
            "text/plain": [
              "Learner(\n",
              "  (fc1): Linear(in_features=13, out_features=256, bias=True)\n",
              "  (fc2): Linear(in_features=256, out_features=256, bias=True)\n",
              "  (fc_out): Linear(in_features=256, out_features=4, bias=True)\n",
              ")"
            ]
          },
          "metadata": {},
          "execution_count": 27
        }
      ],
      "source": [
        "# Initialize DAgger Agent with BC learner's weights\n",
        "dagger_learner = Learner(env, env_params)\n",
        "checkpoint_path = get_checkpoint_path(\"bc\")\n",
        "dagger_learner.load_state_dict(torch.load(checkpoint_path))\n",
        "\n",
        "device = torch.device(\"cuda:0\" if torch.cuda.is_available() else \"cpu\")\n",
        "dagger_learner.to(device)"
      ]
    },
    {
      "cell_type": "code",
      "execution_count": 28,
      "metadata": {
        "id": "eQTRN4i9zhnn",
        "colab": {
          "base_uri": "https://localhost:8080/"
        },
        "outputId": "16e70f39-f2b7-4bf9-a3e0-0fe275191e33"
      },
      "outputs": [
        {
          "output_type": "stream",
          "name": "stderr",
          "text": [
            "WARNING:py.warnings:<ipython-input-26-8fc2357e0d99>:61: UserWarning: To copy construct from a tensor, it is recommended to use sourceTensor.clone().detach() or sourceTensor.clone().detach().requires_grad_(True), rather than torch.tensor(sourceTensor).\n",
            "  torch.tensor(validation_proprios).to(device).float(),\n",
            "\n",
            "WARNING:py.warnings:<ipython-input-26-8fc2357e0d99>:62: UserWarning: To copy construct from a tensor, it is recommended to use sourceTensor.clone().detach() or sourceTensor.clone().detach().requires_grad_(True), rather than torch.tensor(sourceTensor).\n",
            "  torch.tensor(validation_goals).to(device).float(),\n",
            "\n",
            "WARNING:py.warnings:<ipython-input-26-8fc2357e0d99>:63: UserWarning: To copy construct from a tensor, it is recommended to use sourceTensor.clone().detach() or sourceTensor.clone().detach().requires_grad_(True), rather than torch.tensor(sourceTensor).\n",
            "  torch.tensor(validation_actions).to(device).float(),\n",
            "\n",
            "100%|██████████| 500/500 [00:01<00:00, 276.08it/s]\n"
          ]
        },
        {
          "output_type": "stream",
          "name": "stdout",
          "text": [
            "After interaction 0, reward = -18.6\n"
          ]
        },
        {
          "output_type": "stream",
          "name": "stderr",
          "text": [
            "100%|██████████| 500/500 [00:01<00:00, 266.56it/s]\n"
          ]
        },
        {
          "output_type": "stream",
          "name": "stdout",
          "text": [
            "After interaction 1, reward = -18.6\n"
          ]
        },
        {
          "output_type": "stream",
          "name": "stderr",
          "text": [
            "100%|██████████| 500/500 [00:01<00:00, 271.18it/s]\n"
          ]
        },
        {
          "output_type": "stream",
          "name": "stdout",
          "text": [
            "After interaction 2, reward = -18.55\n"
          ]
        },
        {
          "output_type": "stream",
          "name": "stderr",
          "text": [
            "100%|██████████| 500/500 [00:01<00:00, 279.46it/s]\n"
          ]
        },
        {
          "output_type": "stream",
          "name": "stdout",
          "text": [
            "After interaction 3, reward = -18.55\n"
          ]
        },
        {
          "output_type": "stream",
          "name": "stderr",
          "text": [
            "100%|██████████| 500/500 [00:01<00:00, 273.63it/s]\n"
          ]
        },
        {
          "output_type": "stream",
          "name": "stdout",
          "text": [
            "After interaction 4, reward = -18.55\n"
          ]
        },
        {
          "output_type": "stream",
          "name": "stderr",
          "text": [
            "100%|██████████| 500/500 [00:01<00:00, 284.17it/s]\n"
          ]
        },
        {
          "output_type": "stream",
          "name": "stdout",
          "text": [
            "After interaction 5, reward = -18.55\n"
          ]
        },
        {
          "output_type": "stream",
          "name": "stderr",
          "text": [
            "100%|██████████| 500/500 [00:01<00:00, 259.44it/s]\n"
          ]
        },
        {
          "output_type": "stream",
          "name": "stdout",
          "text": [
            "After interaction 6, reward = -13.8\n"
          ]
        },
        {
          "output_type": "stream",
          "name": "stderr",
          "text": [
            "100%|██████████| 500/500 [00:02<00:00, 219.30it/s]\n"
          ]
        },
        {
          "output_type": "stream",
          "name": "stdout",
          "text": [
            "After interaction 7, reward = -6.9\n"
          ]
        },
        {
          "output_type": "stream",
          "name": "stderr",
          "text": [
            "100%|██████████| 500/500 [00:02<00:00, 174.01it/s]\n"
          ]
        },
        {
          "output_type": "stream",
          "name": "stdout",
          "text": [
            "After interaction 8, reward = -4.8\n"
          ]
        }
      ],
      "source": [
        "checkpoint_path = get_checkpoint_path(\"dagger\")\n",
        "seed = 2\n",
        "reseed(seed)\n",
        "interact(env, dagger_learner, expert_network, torch.tensor(train_proprios).to(device), torch.tensor(train_goals).to(device), torch.tensor(train_actions).to(device), torch.tensor(validation_proprios).to(device), torch.tensor(validation_goals), torch.tensor(validation_actions).to(device), checkpoint_path, seed, num_epochs = 500)"
      ]
    },
    {
      "cell_type": "code",
      "execution_count": 29,
      "metadata": {
        "id": "X1x0FNAooLw7",
        "colab": {
          "base_uri": "https://localhost:8080/"
        },
        "outputId": "cb254808-9c10-4180-b6a5-6c53fb887fa9"
      },
      "outputs": [
        {
          "output_type": "stream",
          "name": "stderr",
          "text": [
            "WARNING:py.warnings:<ipython-input-29-e16f7c98ee98>:3: FutureWarning: You are using `torch.load` with `weights_only=False` (the current default value), which uses the default pickle module implicitly. It is possible to construct malicious pickle data which will execute arbitrary code during unpickling (See https://github.com/pytorch/pytorch/blob/main/SECURITY.md#untrusted-models for more details). In a future release, the default value for `weights_only` will be flipped to `True`. This limits the functions that could be executed during unpickling. Arbitrary objects will no longer be allowed to be loaded via this mode unless they are explicitly allowlisted by the user via `torch.serialization.add_safe_globals`. We recommend you start setting `weights_only=True` for any use case where you don't have full control of the loaded file. Please open an issue on GitHub for any issues related to this experimental feature.\n",
            "  dagger_learner.load_state_dict(torch.load(checkpoint_path))\n",
            "\n"
          ]
        },
        {
          "output_type": "stream",
          "name": "stdout",
          "text": [
            "Avg Reward using DAgger Learner Actions =  -4.8\n",
            "Avg Reward using Expert Actions =  -1.8\n"
          ]
        }
      ],
      "source": [
        "dagger_learner = Learner(env, env_params)\n",
        "checkpoint_path = get_checkpoint_path(\"dagger\")\n",
        "dagger_learner.load_state_dict(torch.load(checkpoint_path))\n",
        "\n",
        "device = torch.device(\"cuda:0\" if torch.cuda.is_available() else \"cpu\")\n",
        "dagger_learner.to(device)\n",
        "dagger_learner.eval()\n",
        "\n",
        "print(\"Avg Reward using DAgger Learner Actions = \", (evaluate(env, dagger_learner)))\n",
        "print(\"Avg Reward using Expert Actions = \", (total_reward))"
      ]
    },
    {
      "cell_type": "code",
      "execution_count": null,
      "metadata": {
        "id": "E1877kA6tMaj"
      },
      "outputs": [],
      "source": []
    }
  ],
  "metadata": {
    "colab": {
      "collapsed_sections": [
        "stzlSyGe8TOU"
      ],
      "provenance": [],
      "gpuType": "T4"
    },
    "kernelspec": {
      "display_name": "Python 3",
      "name": "python3"
    },
    "language_info": {
      "name": "python"
    },
    "accelerator": "GPU"
  },
  "nbformat": 4,
  "nbformat_minor": 0
}